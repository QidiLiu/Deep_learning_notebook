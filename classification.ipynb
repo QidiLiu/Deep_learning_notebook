{
  "nbformat": 4,
  "nbformat_minor": 0,
  "metadata": {
    "colab": {
      "name": "classification.ipynb",
      "provenance": [],
      "include_colab_link": true
    },
    "kernelspec": {
      "name": "python3",
      "display_name": "Python 3"
    }
  },
  "cells": [
    {
      "cell_type": "markdown",
      "metadata": {
        "id": "view-in-github",
        "colab_type": "text"
      },
      "source": [
        "<a href=\"https://colab.research.google.com/github/QidiLiu/ML_notebook/blob/master/classification.ipynb\" target=\"_parent\"><img src=\"https://colab.research.google.com/assets/colab-badge.svg\" alt=\"Open In Colab\"/></a>"
      ]
    },
    {
      "cell_type": "markdown",
      "metadata": {
        "id": "wz_JmhCy3Weq",
        "colab_type": "text"
      },
      "source": [
        "# 手写数字图片的分类 - Classification"
      ]
    },
    {
      "cell_type": "code",
      "metadata": {
        "id": "JjyQANV33BLF",
        "colab_type": "code",
        "outputId": "c8e84a2a-5604-4949-b5a8-a9304a5d5f1c",
        "colab": {
          "base_uri": "https://localhost:8080/",
          "height": 34
        }
      },
      "source": [
        "# 引入手写图像数据库\n",
        "from sklearn.datasets import fetch_openml\n",
        "mnist = fetch_openml('mnist_784', version=1)\n",
        "mnist.keys()"
      ],
      "execution_count": 1,
      "outputs": [
        {
          "output_type": "execute_result",
          "data": {
            "text/plain": [
              "dict_keys(['data', 'target', 'feature_names', 'DESCR', 'details', 'categories', 'url'])"
            ]
          },
          "metadata": {
            "tags": []
          },
          "execution_count": 1
        }
      ]
    },
    {
      "cell_type": "markdown",
      "metadata": {
        "id": "KX4v2ZAq8I3A",
        "colab_type": "text"
      },
      "source": [
        "数据库结构：70000个图像和对应的70000个标签"
      ]
    },
    {
      "cell_type": "code",
      "metadata": {
        "id": "VXARh4nK4iET",
        "colab_type": "code",
        "outputId": "fc12205c-f5f6-444a-d090-777c51927974",
        "colab": {
          "base_uri": "https://localhost:8080/",
          "height": 52
        }
      },
      "source": [
        "X, y = mnist['data'], mnist['target']\n",
        "print(X.shape)\n",
        "print(y.shape)"
      ],
      "execution_count": 2,
      "outputs": [
        {
          "output_type": "stream",
          "text": [
            "(70000, 784)\n",
            "(70000,)\n"
          ],
          "name": "stdout"
        }
      ]
    },
    {
      "cell_type": "code",
      "metadata": {
        "id": "VvjMynE3804Z",
        "colab_type": "code",
        "outputId": "48622624-45f1-435b-d1b7-606e027184b5",
        "colab": {
          "base_uri": "https://localhost:8080/",
          "height": 282
        }
      },
      "source": [
        "# 随便一看\n",
        "import matplotlib as mpl\n",
        "import matplotlib.pyplot as plt\n",
        "\n",
        "some_digit = X[0]\n",
        "some_digit_image = some_digit.reshape(28, 28)\n",
        "\n",
        "plt.imshow(some_digit_image, cmap=\"binary\")\n",
        "plt.show()\n",
        "\n",
        "print(y[0])"
      ],
      "execution_count": 3,
      "outputs": [
        {
          "output_type": "display_data",
          "data": {
            "image/png": "[encoded data removed]",
            "text/plain": [
              "<Figure size 432x288 with 1 Axes>"
            ]
          },
          "metadata": {
            "tags": []
          }
        },
        {
          "output_type": "stream",
          "text": [
            "5\n"
          ],
          "name": "stdout"
        }
      ]
    },
    {
      "cell_type": "code",
      "metadata": {
        "id": "NoA41wji9vD2",
        "colab_type": "code",
        "colab": {}
      },
      "source": [
        "import numpy as np\n",
        "\n",
        "# 把标签格式由String转为Integer\n",
        "y = y.astype(np.uint8)\n",
        "\n",
        "# MNIST中前六万个是train set，后一万个是test set.所以可以直接分，不用考虑怎么分\n",
        "X_train, X_test, y_train, y_test = X[:60000], X[60000:], y[:60000], y[60000:]"
      ],
      "execution_count": 0,
      "outputs": []
    },
    {
      "cell_type": "code",
      "metadata": {
        "id": "ehF0Rrnoyqn9",
        "colab_type": "code",
        "outputId": "1ed787bb-2fd4-449c-bf57-f48d74920f96",
        "colab": {
          "base_uri": "https://localhost:8080/",
          "height": 122
        }
      },
      "source": [
        "# 搞一个\"是否\"分类器（此处判断目标：是不是5）\n",
        "y_train_5 = (y_train == 5)\n",
        "y_test_5 = (y_test == 5) # 把标签转为布尔值\n",
        "\n",
        "from sklearn.linear_model import SGDClassifier\n",
        "\n",
        "sgd_clf = SGDClassifier(random_state=42)\n",
        "sgd_clf.fit(X_train, y_train_5)"
      ],
      "execution_count": 5,
      "outputs": [
        {
          "output_type": "execute_result",
          "data": {
            "text/plain": [
              "SGDClassifier(alpha=0.0001, average=False, class_weight=None,\n",
              "              early_stopping=False, epsilon=0.1, eta0=0.0, fit_intercept=True,\n",
              "              l1_ratio=0.15, learning_rate='optimal', loss='hinge',\n",
              "              max_iter=1000, n_iter_no_change=5, n_jobs=None, penalty='l2',\n",
              "              power_t=0.5, random_state=42, shuffle=True, tol=0.001,\n",
              "              validation_fraction=0.1, verbose=0, warm_start=False)"
            ]
          },
          "metadata": {
            "tags": []
          },
          "execution_count": 5
        }
      ]
    },
    {
      "cell_type": "code",
      "metadata": {
        "id": "pqpT7OjB0vY6",
        "colab_type": "code",
        "outputId": "278bf4c8-1ac2-4496-dc51-04ddf1dbcc44",
        "colab": {
          "base_uri": "https://localhost:8080/",
          "height": 34
        }
      },
      "source": [
        "# 随便预测一下\n",
        "sgd_clf.predict([some_digit])"
      ],
      "execution_count": 6,
      "outputs": [
        {
          "output_type": "execute_result",
          "data": {
            "text/plain": [
              "array([ True])"
            ]
          },
          "metadata": {
            "tags": []
          },
          "execution_count": 6
        }
      ]
    },
    {
      "cell_type": "markdown",
      "metadata": {
        "id": "Z-0-G9Lk1Kdx",
        "colab_type": "text"
      },
      "source": [
        "这是最入门的一种分类器，判断图片数字是否为5。上一行的输出表明预测值与实际值相同。\n",
        "\n",
        "但这只是个入门，在这次训练和预测过程中，数据集本身就被调节到适合训练的样子，预测也很随便，一切设定都是为了读者能更简单的把握“分类器”的核心概念。\n",
        "\n",
        "在性能评估方面，分类器比回归器更棘手一些。"
      ]
    },
    {
      "cell_type": "code",
      "metadata": {
        "id": "qqx9A1Wl1Gqe",
        "colab_type": "code",
        "outputId": "66e4c634-5dc4-44f7-da5d-0e0faefae5be",
        "colab": {
          "base_uri": "https://localhost:8080/",
          "height": 69
        }
      },
      "source": [
        "# Measuring Accuracy Using Cross-Validation\n",
        "# 这段代码其实是Scikit-learn的cross_val_score()的核心算法，只供理解，没必要这么麻烦\n",
        "from sklearn.model_selection import StratifiedKFold\n",
        "from sklearn import clone\n",
        "\n",
        "skfolds = StratifiedKFold(n_splits=3, random_state=42) # n_splits:分成3份，其中两份做样本，剩下一份做测试：random_state:洗牌的种子\n",
        "\n",
        "for train_index, test_index in skfolds.split(X_train, y_train_5):\n",
        "  clone_clf = clone(sgd_clf) # 克隆已训练好的二元分类器\n",
        "  X_train_folds = X_train[train_index]\n",
        "  y_train_folds = y_train_5[train_index]\n",
        "  X_test_folds = X_train[test_index]\n",
        "  y_test_folds = y_train_5[test_index]\n",
        "\n",
        "  clone_clf.fit(X_train_folds, y_train_folds)\n",
        "  y_pred = clone_clf.predict(X_test_folds)\n",
        "  n_correct = sum(y_pred == y_test_folds)\n",
        "  print(n_correct / len(y_pred))"
      ],
      "execution_count": 7,
      "outputs": [
        {
          "output_type": "stream",
          "text": [
            "0.95035\n",
            "0.96035\n",
            "0.9604\n"
          ],
          "name": "stdout"
        }
      ]
    },
    {
      "cell_type": "markdown",
      "metadata": {
        "id": "BBtViGgL9lpi",
        "colab_type": "text"
      },
      "source": [
        "此处Cross-Validation的算法逻辑是先把数据集分为样本和标签的训练层和测试层，再用训练层训练模型，最后用测试层计算准确度。为啥不用之前分好的train set和test set呢，因为**要把test set留到最后用**。\n",
        "\n",
        "来自[sklearn包中StratifiedKFold和KFold生成交叉验证数据集的区别](https://blog.csdn.net/MsSpark/article/details/84455402)：\n",
        "- KFold交叉采样：将训练/测试数据集划分n_splits个互斥子集，每次只用其中一个子集当做测试集，剩下的（n_splits-1）作为训练集，进行n_splits次实验并得到n_splits个结果。\n",
        "- StratifiedKFold分层采样，用于交叉验证：与KFold最大的差异在于，StratifiedKFold方法是根据标签中不同类别占比来进行拆分数据的。\n",
        "- 两种采样器对象的各参数：\n",
        "  - n_splits：表示将数据划分几等份\n",
        "  - shuffle：在每次划分时，是否进行洗牌\n",
        "    - 若为False，其效果相当于random_state为整数(含零)，每次划分的结果相同\n",
        "    - 若为True，每次划分的结果不一样，表示经过洗牌，随机取样的\n",
        "  - random_state：随机种子数，当设定值(一般为0)后可方便调参，因为每次生成的数据集相同"
      ]
    },
    {
      "cell_type": "code",
      "metadata": {
        "id": "2OSX1xPLBuZk",
        "colab_type": "code",
        "outputId": "cd92bbb3-a79d-44ab-f98a-c4aa3f88e722",
        "colab": {
          "base_uri": "https://localhost:8080/",
          "height": 34
        }
      },
      "source": [
        "# sklearn库内集成的Cross-Validation算法\n",
        "from sklearn.model_selection import cross_val_score\n",
        "\n",
        "cross_val_score(sgd_clf, X_train, y_train_5, cv=3, scoring=\"accuracy\")"
      ],
      "execution_count": 8,
      "outputs": [
        {
          "output_type": "execute_result",
          "data": {
            "text/plain": [
              "array([0.95035, 0.96035, 0.9604 ])"
            ]
          },
          "metadata": {
            "tags": []
          },
          "execution_count": 8
        }
      ]
    },
    {
      "cell_type": "markdown",
      "metadata": {
        "id": "xRXQVZWrrTE9",
        "colab_type": "text"
      },
      "source": [
        "预测准确率不适合作为分类器的评价标准。如果我们做一个Not-5-classifier，这个分类器不做任何计算不管输入什么都是输出True（也就是说，这个分类器分类全靠蒙），那么在一个5很少的测试集里（比如这个0-9均匀分布的手写数字集），这个分类器的准确率可高达90%，略低于上面用的SGDClassifier（随机梯度下降模型）。\n",
        "\n",
        "所以要引入**Confusion Matrix（[混淆矩阵](https://zh.wikipedia.org/wiki/%E6%B7%B7%E6%B7%86%E7%9F%A9%E9%98%B5)）**。\n",
        "\n",
        "混淆矩阵的核心是把预测结果的错误部分细分为**误判——False Negative(FN)**和**漏判——False Positive(FP)**。"
      ]
    },
    {
      "cell_type": "code",
      "metadata": {
        "id": "fvdfTgU_tSus",
        "colab_type": "code",
        "colab": {
          "base_uri": "https://localhost:8080/",
          "height": 52
        },
        "outputId": "0651290c-2fac-4e2d-b9d4-5561d7d4d7e7"
      },
      "source": [
        "from sklearn.model_selection import cross_val_predict\n",
        "\n",
        "y_train_pred = cross_val_predict(sgd_clf, X_train, y_train_5, cv=3) # 本方法返回测试层的预测结果集\n",
        "\n",
        "from sklearn.metrics import confusion_matrix\n",
        "\n",
        "confusion_matrix(y_train_5, y_train_pred)"
      ],
      "execution_count": 9,
      "outputs": [
        {
          "output_type": "execute_result",
          "data": {
            "text/plain": [
              "array([[53892,   687],\n",
              "       [ 1891,  3530]])"
            ]
          },
          "metadata": {
            "tags": []
          },
          "execution_count": 9
        }
      ]
    },
    {
      "cell_type": "code",
      "metadata": {
        "id": "Wo9DCCfV5bst",
        "colab_type": "code",
        "colab": {}
      },
      "source": [
        ""
      ],
      "execution_count": 0,
      "outputs": []
    }
  ]
}