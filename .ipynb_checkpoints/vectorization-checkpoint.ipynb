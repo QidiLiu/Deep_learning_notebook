{
 "cells": [
  {
   "cell_type": "code",
   "execution_count": 5,
   "metadata": {},
   "outputs": [],
   "source": [
    "import numpy as np\n",
    "import time"
   ]
  },
  {
   "cell_type": "code",
   "execution_count": 8,
   "metadata": {},
   "outputs": [
    {
     "name": "stdout",
     "output_type": "stream",
     "text": [
      "250113.6438014005\n",
      "Vectorized version:0.6570816040039062ms\n",
      "250113.64380139997\n",
      "For loop:650.4175662994385ms\n",
      "For loop is 989.8581277213352 times faster than the verctorized version\n"
     ]
    }
   ],
   "source": [
    "a = np.random.rand(1000000)\n",
    "b = np.random.rand(1000000)\n",
    "\n",
    "tic = time.time()\n",
    "c = np.dot(a,b)\n",
    "toc = time.time()\n",
    "\n",
    "print(c)\n",
    "print('Vectorized version:' + str(1000*(toc-tic)) + 'ms')\n",
    "\n",
    "c = 0\n",
    "tic_2 = time.time()\n",
    "for i in range(1000000):\n",
    "    c += a[i] * b[i]\n",
    "toc_2 = time.time()\n",
    "\n",
    "print(c)\n",
    "print('For loop:' + str(1000*(toc_2-tic_2)) + 'ms')\n",
    "\n",
    "print('For loop is', str((toc_2-tic_2)/(toc-tic)), 'times faster than the verctorized version')"
   ]
  },
  {
   "cell_type": "code",
   "execution_count": null,
   "metadata": {},
   "outputs": [],
   "source": []
  }
 ],
 "metadata": {
  "kernelspec": {
   "display_name": "Python 3",
   "language": "python",
   "name": "python3"
  },
  "language_info": {
   "codemirror_mode": {
    "name": "ipython",
    "version": 3
   },
   "file_extension": ".py",
   "mimetype": "text/x-python",
   "name": "python",
   "nbconvert_exporter": "python",
   "pygments_lexer": "ipython3",
   "version": "3.7.2"
  }
 },
 "nbformat": 4,
 "nbformat_minor": 2
}
